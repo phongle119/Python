{
 "cells": [
  {
   "cell_type": "markdown",
   "id": "44b931b5-b24d-43ba-861e-6e1df668b026",
   "metadata": {},
   "source": [
    "# Grading: x of 6 correct\n",
    "- [x] Create l1\n",
    "- [x] Extract y with index\n",
    "- [x] Convert l1 to tuple\n",
    "- [x] Try to change 3 in t1 to 7\n",
    "- [x] Change 4 in t1 to new list\n",
    "- [x] Tuple items are immutable, but items within mutable objects in a tuple are\n",
    "\n",
    "Comments:"
   ]
  },
  {
   "cell_type": "markdown",
   "id": "79b9b181-ebe4-49aa-ae71-0bd72176b056",
   "metadata": {},
   "source": [
    "## Unit 1 Lists and Tuples Quiz\n",
    "* The objective of this quiz is for you to write code to create and manipulate lists and tuples.\n",
    "* Lists example\n",
    "* Create a nested list `l1` that has the value `[3, ['test', 4], ['howdy', [5, 6]]]`\n",
    "    * Use indexing to extract the `y` in the list and print it out.\n",
    "* Tuples example\n",
    "* Convert the list `l1` to a tuple called `t1` and print it out.\n",
    "    * Try to change the value 3 in `t1` to 7.\n",
    "    * Try to change the 4 in the second element (index 1) of `t1` to the list `['Hi', \"how are you?\"]`\n",
    "    * What do the results in the two cases of tuple manipulation imply?"
   ]
  },
  {
   "cell_type": "code",
   "execution_count": null,
   "id": "53aeda80-8714-47eb-b914-76c37e7858ac",
   "metadata": {},
   "outputs": [],
   "source": [
    "# Write your code here for creating l1"
   ]
  },
  {
   "cell_type": "code",
   "execution_count": null,
   "id": "79112d3d-c6af-405b-b8f4-cc54aeedfa84",
   "metadata": {},
   "outputs": [],
   "source": [
    "# Write the code here for converting l1 to t1"
   ]
  },
  {
   "cell_type": "code",
   "execution_count": null,
   "id": "e83e81c5-c89f-43df-8dcf-0711cfe24672",
   "metadata": {},
   "outputs": [],
   "source": [
    "# Write the code here to change the value 3 in t1 to 7"
   ]
  },
  {
   "cell_type": "code",
   "execution_count": null,
   "id": "71a33e84-82ff-4d81-ba46-8fd25dc3d23f",
   "metadata": {},
   "outputs": [],
   "source": [
    "# Write the code here to change the 4 in t1 to ['H1', 'how are you']"
   ]
  }
 ],
 "metadata": {
  "kernelspec": {
   "display_name": "Python 3 (ipykernel)",
   "language": "python",
   "name": "python3"
  },
  "language_info": {
   "codemirror_mode": {
    "name": "ipython",
    "version": 3
   },
   "file_extension": ".py",
   "mimetype": "text/x-python",
   "name": "python",
   "nbconvert_exporter": "python",
   "pygments_lexer": "ipython3",
   "version": "3.11.5"
  }
 },
 "nbformat": 4,
 "nbformat_minor": 5
}

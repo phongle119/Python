{
 "cells": [
  {
   "cell_type": "markdown",
   "id": "c4230680-ba23-4630-bdcc-5cf607c2c436",
   "metadata": {},
   "source": [
    "# Grading: x of 3 correct\n",
    "- [x] Takes string\n",
    "- [x] Returns Boolean\n",
    "- [x] Tested on inputs from strings quiz"
   ]
  },
  {
   "cell_type": "markdown",
   "id": "79b9b181-ebe4-49aa-ae71-0bd72176b056",
   "metadata": {},
   "source": [
    "## Unit 1 Functions Quiz\n",
    "* The objective of this quiz is for you to write a function called `palindrome` that implements the palindorme checker that you wrote earlier as a function.\n",
    "    * `palindrome` takes a single input that is a string\n",
    "    * `palindrome` returns a single output that is a Boolean.\n",
    "* Test the `palindrome` function with the same inputs that you used with the previous quiz."
   ]
  },
  {
   "cell_type": "code",
   "execution_count": null,
   "id": "53aeda80-8714-47eb-b914-76c37e7858ac",
   "metadata": {},
   "outputs": [],
   "source": [
    "# Write your code here for the palidrome function here."
   ]
  },
  {
   "cell_type": "code",
   "execution_count": null,
   "id": "79112d3d-c6af-405b-b8f4-cc54aeedfa84",
   "metadata": {},
   "outputs": [],
   "source": [
    "# Write the code here for testing the palindrome function."
   ]
  }
 ],
 "metadata": {
  "kernelspec": {
   "display_name": "Python 3 (ipykernel)",
   "language": "python",
   "name": "python3"
  },
  "language_info": {
   "codemirror_mode": {
    "name": "ipython",
    "version": 3
   },
   "file_extension": ".py",
   "mimetype": "text/x-python",
   "name": "python",
   "nbconvert_exporter": "python",
   "pygments_lexer": "ipython3",
   "version": "3.11.5"
  }
 },
 "nbformat": 4,
 "nbformat_minor": 5
}

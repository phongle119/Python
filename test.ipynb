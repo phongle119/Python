{
 "cells": [
  {
   "cell_type": "code",
   "execution_count": null,
   "id": "0122c430",
   "metadata": {},
   "outputs": [
    {
     "name": "stdout",
     "output_type": "stream",
     "text": [
      "[[10 11 12]\n",
      " [13 14 15]]\n",
      "\n",
      "Output of argmax:\n",
      "[2 2]\n"
     ]
    },
    {
     "data": {
      "text/plain": [
       "(np.int64(1), np.int64(2))"
      ]
     },
     "execution_count": 28,
     "metadata": {},
     "output_type": "execute_result"
    }
   ],
   "source": [
    "import numpy as np\n",
    "\n",
    "a = np.arange(6).reshape(2,3) + 10  # Example usage of numpy\n",
    "print(a)  # Output the random array\n",
    "print('\\nOutput of argmax:')\n",
    "print(np.argmax(a, axis=-1))  # Example usage of argmax\n",
    "ind = np.unravel_index(np.argmax(a, axis=None), a.shape)\n",
    "ind\n",
    "main branch edit\n",
    "Main branch edit 1\n",
    "main branch edit 2"
   ]
  },
  {
   "cell_type": "code",
   "execution_count": 29,
   "id": "0efaa9c9",
   "metadata": {},
   "outputs": [
    {
     "data": {
      "text/plain": [
       "[array([0, 1, 2]), array([3, 4, 5]), array([6, 7, 8])]"
      ]
     },
     "execution_count": 29,
     "metadata": {},
     "output_type": "execute_result"
    }
   ],
   "source": [
    "x = np.arange(9)\n",
    "np.array_split(x, 3)  # Example usage of array_split"
   ]
  },
  {
   "cell_type": "code",
   "execution_count": 35,
   "id": "04bd8074",
   "metadata": {},
   "outputs": [
    {
     "data": {
      "text/plain": [
       "array([[1, 2, 5],\n",
       "       [3, 4, 6]])"
      ]
     },
     "execution_count": 35,
     "metadata": {},
     "output_type": "execute_result"
    }
   ],
   "source": [
    "import numpy as np\n",
    "a = np.array([[1, 2], [3, 4]])\n",
    "b = np.array([[5, 6]])\n",
    "np.concatenate((a, b), axis=0)\n",
    "np.concatenate((a, b.T), axis=1)\n",
    "# np.concatenate((a, b), axis=None)"
   ]
  },
  {
   "cell_type": "code",
   "execution_count": 37,
   "id": "f17e7785",
   "metadata": {},
   "outputs": [
    {
     "data": {
      "text/plain": [
       "array([[False, False],\n",
       "       [ True, False]])"
      ]
     },
     "execution_count": 37,
     "metadata": {},
     "output_type": "execute_result"
    }
   ],
   "source": [
    "s = (2,2)\n",
    "np.zeros(s)\n",
    "np.array([[1, 2],[3, 4]]) == 3"
   ]
  }
 ],
 "metadata": {
  "kernelspec": {
   "display_name": ".venv",
   "language": "python",
   "name": "python3"
  },
  "language_info": {
   "codemirror_mode": {
    "name": "ipython",
    "version": 3
   },
   "file_extension": ".py",
   "mimetype": "text/x-python",
   "name": "python",
   "nbconvert_exporter": "python",
   "pygments_lexer": "ipython3",
   "version": "3.13.5"
  }
 },
 "nbformat": 4,
 "nbformat_minor": 5
}
